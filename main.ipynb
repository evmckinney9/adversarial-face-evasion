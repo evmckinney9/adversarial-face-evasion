{
  "nbformat": 4,
  "nbformat_minor": 0,
  "metadata": {
    "colab": {
      "provenance": [],
      "authorship_tag": "ABX9TyP4u/jtzQwES05+uy8XH0fv",
      "include_colab_link": true
    },
    "kernelspec": {
      "name": "python3",
      "display_name": "Python 3"
    },
    "language_info": {
      "name": "python"
    }
  },
  "cells": [
    {
      "cell_type": "markdown",
      "metadata": {
        "id": "view-in-github",
        "colab_type": "text"
      },
      "source": [
        "<a href=\"https://colab.research.google.com/github/evmckinney9/adversarial-face-evasion/blob/main/main.ipynb\" target=\"_parent\"><img src=\"https://colab.research.google.com/assets/colab-badge.svg\" alt=\"Open In Colab\"/></a>"
      ]
    },
    {
      "cell_type": "code",
      "source": [
        "import tensorflow as tf\n",
        "\n",
        "# Load the input image\n",
        "image = tf.keras.preprocessing.image.load_img('person.jpg')\n",
        "\n",
        "# Preprocess the image for the face detection model\n",
        "image = tf.keras.preprocessing.image.img_to_array(image)\n",
        "image = tf.keras.applications.resnet50.preprocess_input(image)\n",
        "\n",
        "# Create a tensorflow variable for the input image\n",
        "input_image = tf.Variable(image, dtype=tf.float32)"
      ],
      "metadata": {
        "id": "lmNWjD5Iyopm"
      },
      "execution_count": null,
      "outputs": []
    },
    {
      "cell_type": "code",
      "source": [
        "# Use the face detection model to predict the probability of a face being present in the input image\n",
        "model_face_detection = faceDetection.SupportedModels.MediaPipeFaceDetector\n",
        "config_face_detection = {\n",
        "  runtime: 'mediapipe', # or 'tfjs'\n",
        "}\n",
        "face_detector = faceDetection.createDetector(model_face_detection, config_face_detection)\n",
        "prediction = face_detector.predict(input_image)\n",
        "\n",
        "# Convert the prediction into a probability using the sigmoid function\n",
        "prediction = tf.nn.sigmoid(prediction)\n",
        "\n",
        "# Define the loss function and optimization algorithm\n",
        "true_label = tf.Variable([0], dtype=tf.float32)\n",
        "loss = tf.nn.sigmoid_cross_entropy_with_logits(labels=true_label, logits=prediction)\n",
        "optimizer = tf.train.GradientDescentOptimizer(learning_rate=0.01)\n",
        "train_op = optimizer.minimize(loss, var_list=[input_image])\n",
        "\n",
        "# Initialize the tensorflow session and variables\n",
        "sess = tf.Session()\n",
        "sess.run(tf.global_variables_initializer())\n",
        "\n",
        "# Run the optimization loop\n",
        "for i in range(num_steps):\n",
        "  _, loss_value = sess.run([train_op, loss], feed_dict={input_image: image, true_label: [0]})\n",
        "  if i % 100 == 0:\n",
        "    print(\"Step: {}, Loss: {}\".format(i, loss_value))\n",
        "\n",
        "# Save the modified image\n",
        "modified_image = sess.run(input_image)\n",
        "tf.keras.preprocessing.image.save_img('modified.jpg', modified_image)\n"
      ],
      "metadata": {
        "id": "-qseiQk5yqA1",
        "outputId": "ccba2516-d669-46cf-f6e4-f56e27998248",
        "colab": {
          "base_uri": "https://localhost:8080/",
          "height": 236
        }
      },
      "execution_count": null,
      "outputs": [
        {
          "output_type": "error",
          "ename": "NameError",
          "evalue": "ignored",
          "traceback": [
            "\u001b[0;31m---------------------------------------------------------------------------\u001b[0m",
            "\u001b[0;31mNameError\u001b[0m                                 Traceback (most recent call last)",
            "\u001b[0;32m<ipython-input-5-efb0a8631d9b>\u001b[0m in \u001b[0;36m<module>\u001b[0;34m\u001b[0m\n\u001b[1;32m      1\u001b[0m \u001b[0;31m# Use the face detection model to predict the probability of a face being present in the input image\u001b[0m\u001b[0;34m\u001b[0m\u001b[0;34m\u001b[0m\u001b[0;34m\u001b[0m\u001b[0m\n\u001b[0;32m----> 2\u001b[0;31m \u001b[0mmodel_face_detection\u001b[0m \u001b[0;34m=\u001b[0m \u001b[0mfaceDetection\u001b[0m\u001b[0;34m.\u001b[0m\u001b[0mSupportedModels\u001b[0m\u001b[0;34m.\u001b[0m\u001b[0mMediaPipeFaceDetector\u001b[0m\u001b[0;34m\u001b[0m\u001b[0;34m\u001b[0m\u001b[0m\n\u001b[0m\u001b[1;32m      3\u001b[0m config_face_detection = {\n\u001b[1;32m      4\u001b[0m   \u001b[0mruntime\u001b[0m\u001b[0;34m:\u001b[0m \u001b[0;34m'mediapipe'\u001b[0m\u001b[0;34m,\u001b[0m \u001b[0;31m# or 'tfjs'\u001b[0m\u001b[0;34m\u001b[0m\u001b[0;34m\u001b[0m\u001b[0m\n\u001b[1;32m      5\u001b[0m }\n",
            "\u001b[0;31mNameError\u001b[0m: name 'faceDetection' is not defined"
          ]
        }
      ]
    }
  ]
}